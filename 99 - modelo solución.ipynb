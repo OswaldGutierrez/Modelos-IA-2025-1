{
  "cells": [
    {
      "cell_type": "markdown",
      "metadata": {
        "id": "view-in-github",
        "colab_type": "text"
      },
      "source": [
        "<a href=\"https://colab.research.google.com/github/OswaldGutierrez/Modelos-IA-2025-1/blob/main/99%20-%20modelo%20soluci%C3%B3n.ipynb\" target=\"_parent\"><img src=\"https://colab.research.google.com/assets/colab-badge.svg\" alt=\"Open In Colab\"/></a>"
      ]
    },
    {
      "cell_type": "markdown",
      "source": [
        "<font size=\"6\">MODELO SOLUCIÓN</font>\n",
        "\n",
        "**OSWALD DAVID GUTIÉRREZ CORTINA**"
      ],
      "metadata": {
        "id": "NOeogmyYov5W"
      },
      "id": "NOeogmyYov5W"
    },
    {
      "cell_type": "markdown",
      "source": [
        "Adjunto enlace del repositorio con el archivo .py que contiene esta misma información pero en .py. Esto es un plus a la entrega, ya que ejecutarlo en Google Colab puede tardar horas.\n",
        "\n",
        "https://github.com/OswaldGutierrez/Modelo-Solucion.git"
      ],
      "metadata": {
        "id": "r7qtWqado1hU"
      },
      "id": "r7qtWqado1hU"
    },
    {
      "cell_type": "code",
      "source": [
        "!pip install catboost\n",
        "import pandas as pd\n",
        "import numpy as np\n",
        "from sklearn.model_selection import train_test_split\n",
        "from sklearn.metrics import accuracy_score, classification_report\n",
        "from catboost import CatBoostClassifier\n",
        "import requests\n",
        "import zipfile\n",
        "import os"
      ],
      "metadata": {
        "id": "zKm_dJ6hotcL"
      },
      "id": "zKm_dJ6hotcL",
      "execution_count": null,
      "outputs": []
    },
    {
      "cell_type": "code",
      "execution_count": 3,
      "id": "eb84b9e3",
      "metadata": {
        "lines_to_next_cell": 1,
        "id": "eb84b9e3"
      },
      "outputs": [],
      "source": [
        "# Función para descargar archivos\n",
        "def download_file(url, filename):\n",
        "    response = requests.get(url)\n",
        "    with open(filename, 'wb') as f:\n",
        "        f.write(response.content)\n",
        "    print(f\"Descargado: {filename}\")"
      ]
    },
    {
      "cell_type": "code",
      "execution_count": 4,
      "id": "487ccc6b",
      "metadata": {
        "lines_to_next_cell": 1,
        "id": "487ccc6b"
      },
      "outputs": [],
      "source": [
        "# Función para extraer zip\n",
        "def extract_zip(zip_path, extract_to=\".\"):\n",
        "    with zipfile.ZipFile(zip_path, 'r') as zip_ref:\n",
        "        zip_ref.extractall(extract_to)\n",
        "    print(f\"Extraído: {zip_path}\")"
      ]
    },
    {
      "cell_type": "code",
      "execution_count": null,
      "id": "5375a4a3",
      "metadata": {
        "id": "5375a4a3"
      },
      "outputs": [],
      "source": [
        "# Descargar y cargar datos desde mi Github\n",
        "print(\"Descargando datos de entrenamiento...\")\n",
        "download_file(\"https://raw.githubusercontent.com/OswaldGutierrez/contenidoTrain/main/train.zip\", \"train.zip\")\n",
        "extract_zip(\"train.zip\")\n",
        "df_train = pd.read_csv(\"train.csv\")"
      ]
    },
    {
      "cell_type": "code",
      "execution_count": null,
      "id": "981b5b01",
      "metadata": {
        "id": "981b5b01"
      },
      "outputs": [],
      "source": [
        "print(\"Descargando datos de prueba...\")\n",
        "download_file(\"https://raw.githubusercontent.com/OswaldGutierrez/contenidoTest/main/test.zip\", \"test.zip\")\n",
        "extract_zip(\"test.zip\")\n",
        "df_test = pd.read_csv(\"test.csv\")"
      ]
    },
    {
      "cell_type": "code",
      "execution_count": null,
      "id": "27b28712",
      "metadata": {
        "id": "27b28712"
      },
      "outputs": [],
      "source": [
        "print(\"Shape of train dataframe:\", df_train.shape)\n",
        "print(\"Shape of test dataframe:\", df_test.shape)"
      ]
    },
    {
      "cell_type": "code",
      "execution_count": null,
      "id": "680f3b4c",
      "metadata": {
        "id": "680f3b4c"
      },
      "outputs": [],
      "source": [
        "# DIAGNÓSTICO: Verificar columnas en test set\n",
        "print(\"\\n\" + \"=\"*50)\n",
        "print(\"DIAGNÓSTICO DE COLUMNAS EN TEST SET\")\n",
        "print(\"=\"*50)\n",
        "print(\"Columnas en df_test:\")\n",
        "print(df_test.columns.tolist())\n",
        "print(f\"\\nPrimeras 5 filas de df_test:\")\n",
        "print(df_test.head())"
      ]
    },
    {
      "cell_type": "code",
      "execution_count": 9,
      "id": "9133f3a8",
      "metadata": {
        "id": "9133f3a8"
      },
      "outputs": [],
      "source": [
        "# Preparamos los datos\n",
        "X = df_train.drop(columns=['RENDIMIENTO_GLOBAL'])\n",
        "y = df_train['RENDIMIENTO_GLOBAL']"
      ]
    },
    {
      "cell_type": "code",
      "execution_count": 10,
      "id": "63b445fb",
      "metadata": {
        "id": "63b445fb"
      },
      "outputs": [],
      "source": [
        "# Identificamos las columnas categóricas para usarlas en nuestro modelo: CatBoost\n",
        "categorical_features = X.select_dtypes(include=['object', 'category']).columns.tolist()"
      ]
    },
    {
      "cell_type": "code",
      "execution_count": null,
      "id": "3e6e3982",
      "metadata": {
        "id": "3e6e3982"
      },
      "outputs": [],
      "source": [
        "print(f\"Columnas categóricas encontradas: {len(categorical_features)}\")\n",
        "print(f\"Columnas categóricas: {categorical_features}\")"
      ]
    },
    {
      "cell_type": "code",
      "execution_count": null,
      "id": "2b7d9ee8",
      "metadata": {
        "id": "2b7d9ee8"
      },
      "outputs": [],
      "source": [
        "# Limpiamos los valores NaN (vacíos) en las columnas categóricas\n",
        "print(\"\\nLimpiando valores NaN en columnas categóricas...\")\n",
        "for col in categorical_features:\n",
        "    # Contar NaN antes de limpiar\n",
        "    nan_count = X[col].isna().sum()\n",
        "    if nan_count > 0:\n",
        "        print(f\"  - {col}: {nan_count} valores NaN encontrados\")\n",
        "        X[col] = X[col].fillna('Unknown')\n",
        "    else:\n",
        "        print(f\"  - {col}: Sin valores NaN\")"
      ]
    },
    {
      "cell_type": "code",
      "execution_count": null,
      "id": "be79bd02",
      "metadata": {
        "id": "be79bd02"
      },
      "outputs": [],
      "source": [
        "# También limpiamos los valores NaN en columnas numéricas\n",
        "numeric_features = X.select_dtypes(include=['int64', 'float64']).columns.tolist()\n",
        "print(f\"\\nLimpiando valores NaN en {len(numeric_features)} columnas numéricas...\")\n",
        "for col in numeric_features:\n",
        "    nan_count = X[col].isna().sum()\n",
        "    if nan_count > 0:\n",
        "        print(f\"  - {col}: {nan_count} valores NaN → rellenando con mediana\")\n",
        "        X[col] = X[col].fillna(X[col].median())"
      ]
    },
    {
      "cell_type": "code",
      "execution_count": 14,
      "id": "b33b1f10",
      "metadata": {
        "id": "b33b1f10"
      },
      "outputs": [],
      "source": [
        "# Obtener índices de columnas categóricas después de la limpieza\n",
        "categorical_indices = [X.columns.get_loc(col) for col in categorical_features]"
      ]
    },
    {
      "cell_type": "code",
      "execution_count": 15,
      "id": "b9c1bef3",
      "metadata": {
        "id": "b9c1bef3"
      },
      "outputs": [],
      "source": [
        "# Split de datos\n",
        "X_train, X_val, y_train, y_val = train_test_split(X, y, test_size=0.2, random_state=42)"
      ]
    },
    {
      "cell_type": "code",
      "execution_count": 16,
      "id": "5cdc2f26",
      "metadata": {
        "id": "5cdc2f26"
      },
      "outputs": [],
      "source": [
        "# Modelo CatBoost optimizado para velocidad\n",
        "model = CatBoostClassifier(\n",
        "    iterations=500,           # Reducido para velocidad\n",
        "    learning_rate=0.1,        # Aumentado para convergencia más rápida\n",
        "    depth=6,                  # Profundidad moderada\n",
        "    cat_features=categorical_indices,  # CatBoost maneja automáticamente las categóricas\n",
        "    random_seed=42,\n",
        "    verbose=20,               # Mostrar progreso cada 20 iteraciones\n",
        "    early_stopping_rounds=50, # Parar si no mejora en 50 iteraciones\n",
        "    use_best_model=True,      # Usar el mejor modelo encontrado\n",
        "    eval_metric='Accuracy',   # Métrica de evaluación\n",
        "    task_type='CPU',          # Usar CPU (cambiar a 'GPU' si tienes GPU)\n",
        "    bootstrap_type='Bayesian', # Más rápido que 'Bernoulli'\n",
        "    od_type='Iter'            # Tipo de overfitting detection\n",
        ")"
      ]
    },
    {
      "cell_type": "code",
      "source": [
        "# Entrenamento del modelo\n",
        "print(\"Iniciando entrenamiento...\")\n",
        "model.fit(\n",
        "    X_train,\n",
        "    y_train,\n",
        "    eval_set=(X_val, y_val),  # Conjunto de validación para early stopping\n",
        "    plot=False                # No mostrar gráficos durante entrenamiento\n",
        ")"
      ],
      "metadata": {
        "id": "KWMy9J3-omih"
      },
      "id": "KWMy9J3-omih",
      "execution_count": null,
      "outputs": []
    },
    {
      "cell_type": "code",
      "execution_count": null,
      "id": "576bbfd1",
      "metadata": {
        "id": "576bbfd1"
      },
      "outputs": [],
      "source": [
        "# Predicciones y evaluación\n",
        "y_pred = model.predict(X_val)\n",
        "accuracy = accuracy_score(y_val, y_pred)"
      ]
    },
    {
      "cell_type": "code",
      "execution_count": null,
      "id": "53e8b470",
      "metadata": {
        "id": "53e8b470"
      },
      "outputs": [],
      "source": [
        "print(f\"\\nAccuracy en validación: {accuracy:.4f}\")\n",
        "print(f\"Mejor iteración: {model.best_iteration_}\")\n",
        "print(f\"Mejor score: {model.best_score_}\")"
      ]
    },
    {
      "cell_type": "code",
      "execution_count": null,
      "id": "063cd11d",
      "metadata": {
        "id": "063cd11d"
      },
      "outputs": [],
      "source": [
        "# Reporte de clasificación\n",
        "print(\"\\n\" + \"=\"*50)\n",
        "print(\"REPORTE DE CLASIFICACIÓN\")\n",
        "print(\"=\"*50)\n",
        "print(classification_report(y_val, y_pred))"
      ]
    },
    {
      "cell_type": "code",
      "execution_count": null,
      "id": "3d867c81",
      "metadata": {
        "id": "3d867c81"
      },
      "outputs": [],
      "source": [
        "# Importancia de características (top 10)\n",
        "feature_importance = model.get_feature_importance(prettified=True)\n",
        "print(\"\\n\" + \"=\"*50)\n",
        "print(\"TOP 10 CARACTERÍSTICAS MÁS IMPORTANTES\")\n",
        "print(\"=\"*50)\n",
        "print(feature_importance.head(10))"
      ]
    },
    {
      "cell_type": "code",
      "execution_count": null,
      "id": "814722b1",
      "metadata": {
        "id": "814722b1"
      },
      "outputs": [],
      "source": [
        "# Predicciones en test set\n",
        "print(\"\\nPreparando datos de test...\")\n",
        "X_test = df_test.drop(columns=['RENDIMIENTO_GLOBAL'], errors='ignore')"
      ]
    },
    {
      "cell_type": "code",
      "execution_count": null,
      "id": "68d7e20f",
      "metadata": {
        "id": "68d7e20f"
      },
      "outputs": [],
      "source": [
        "# Limpiar valores NaN en test set (igual que en training)\n",
        "print(\"Limpiando valores NaN en test set...\")\n",
        "for col in categorical_features:\n",
        "    if col in X_test.columns:\n",
        "        nan_count = X_test[col].isna().sum()\n",
        "        if nan_count > 0:\n",
        "            print(f\"  - {col}: {nan_count} valores NaN en test\")\n",
        "            X_test[col] = X_test[col].fillna('Unknown')"
      ]
    },
    {
      "cell_type": "code",
      "execution_count": null,
      "id": "5c80059f",
      "metadata": {
        "id": "5c80059f"
      },
      "outputs": [],
      "source": [
        "for col in numeric_features:\n",
        "    if col in X_test.columns:\n",
        "        nan_count = X_test[col].isna().sum()\n",
        "        if nan_count > 0:\n",
        "            print(f\"  - {col}: {nan_count} valores NaN en test → rellenando con mediana\")\n",
        "            # Usar la mediana del conjunto de entrenamiento\n",
        "            X_test[col] = X_test[col].fillna(X[col].median())"
      ]
    },
    {
      "cell_type": "code",
      "execution_count": null,
      "id": "1e716625",
      "metadata": {
        "id": "1e716625"
      },
      "outputs": [],
      "source": [
        "print(\"\\nGenerando predicciones para el conjunto de test...\")\n",
        "test_predictions = model.predict(X_test)"
      ]
    },
    {
      "cell_type": "code",
      "execution_count": null,
      "id": "593e1eb7",
      "metadata": {
        "id": "593e1eb7"
      },
      "outputs": [],
      "source": [
        "# Asegurar que las predicciones sean un array 1D\n",
        "if test_predictions.ndim > 1:\n",
        "    test_predictions = test_predictions.flatten()"
      ]
    },
    {
      "cell_type": "code",
      "execution_count": null,
      "id": "9abdabe2",
      "metadata": {
        "id": "9abdabe2"
      },
      "outputs": [],
      "source": [
        "# SECCIÓN MEJORADA: Detectar automáticamente la columna ID correcta\n",
        "print(\"\\n\" + \"=\"*50)\n",
        "print(\"DETECTANDO COLUMNA ID PARA KAGGLE\")\n",
        "print(\"=\"*50)"
      ]
    },
    {
      "cell_type": "code",
      "execution_count": null,
      "id": "89d63685",
      "metadata": {
        "id": "89d63685"
      },
      "outputs": [],
      "source": [
        "# Posibles nombres de columnas ID en Kaggle\n",
        "possible_id_columns = ['id', 'Id', 'ID', 'index', 'Index', 'row_id', 'Row_ID']\n",
        "id_column_name = None"
      ]
    },
    {
      "cell_type": "code",
      "execution_count": null,
      "id": "da4dcb5d",
      "metadata": {
        "id": "da4dcb5d"
      },
      "outputs": [],
      "source": [
        "# Buscar la columna ID en el test set\n",
        "for col in possible_id_columns:\n",
        "    if col in df_test.columns:\n",
        "        id_column_name = col\n",
        "        print(f\"✅ Columna ID encontrada: '{col}'\")\n",
        "        break"
      ]
    },
    {
      "cell_type": "code",
      "execution_count": null,
      "id": "7bc0ba72",
      "metadata": {
        "id": "7bc0ba72"
      },
      "outputs": [],
      "source": [
        "# Si no se encuentra columna ID, crear una\n",
        "if id_column_name is None:\n",
        "    print(\"⚠️  No se encontró columna ID en el test set\")\n",
        "    print(\"Creando columna ID basada en índices...\")\n",
        "    id_column_name = 'ID'  # Usar 'ID' como nombre por defecto para Kaggle\n",
        "    id_values = range(len(test_predictions))\n",
        "else:\n",
        "    id_values = df_test[id_column_name]"
      ]
    },
    {
      "cell_type": "code",
      "execution_count": null,
      "id": "5cf0412e",
      "metadata": {
        "id": "5cf0412e"
      },
      "outputs": [],
      "source": [
        "# Crear DataFrame con predicciones en formato Kaggle\n",
        "submission = pd.DataFrame({\n",
        "    id_column_name: id_values,\n",
        "    'RENDIMIENTO_GLOBAL': test_predictions\n",
        "})"
      ]
    },
    {
      "cell_type": "code",
      "execution_count": null,
      "id": "3131e5e9",
      "metadata": {
        "id": "3131e5e9"
      },
      "outputs": [],
      "source": [
        "# Verificar que no haya valores NaN en la submission\n",
        "if submission.isnull().any().any():\n",
        "    print(\"⚠️  Detectados valores NaN en submission, limpiando...\")\n",
        "    submission = submission.fillna(0)  # O el valor que sea apropiado"
      ]
    },
    {
      "cell_type": "code",
      "execution_count": null,
      "id": "e8675c7f",
      "metadata": {
        "id": "e8675c7f"
      },
      "outputs": [],
      "source": [
        "# Guardar archivo de submission para Kaggle\n",
        "submission.to_csv('submission.csv', index=False)\n",
        "print(f\"\\n✅ Archivo 'submission.csv' creado exitosamente!\")\n",
        "print(f\"📊 Predicciones generadas: {len(test_predictions)}\")\n",
        "print(f\"📈 Distribución de predicciones:\")\n",
        "print(pd.Series(test_predictions).value_counts().sort_index())"
      ]
    },
    {
      "cell_type": "code",
      "execution_count": null,
      "id": "8f10c864",
      "metadata": {
        "id": "8f10c864"
      },
      "outputs": [],
      "source": [
        "# Mostrar primeras filas del archivo de submission\n",
        "print(f\"\\n📋 Primeras 5 filas del archivo de submission:\")\n",
        "print(submission.head())"
      ]
    },
    {
      "cell_type": "code",
      "execution_count": null,
      "id": "f5b3f49f",
      "metadata": {
        "id": "f5b3f49f"
      },
      "outputs": [],
      "source": [
        "# Verificar formato del archivo final\n",
        "print(f\"\\n🔍 VERIFICACIÓN FINAL DEL FORMATO:\")\n",
        "print(f\"   - Columnas: {list(submission.columns)}\")\n",
        "print(f\"   - Forma: {submission.shape}\")\n",
        "print(f\"   - Tipos de datos:\")\n",
        "print(submission.dtypes)"
      ]
    },
    {
      "cell_type": "code",
      "execution_count": null,
      "id": "3864b06f",
      "metadata": {
        "id": "3864b06f"
      },
      "outputs": [],
      "source": [
        "# Mostrar el archivo tal como se verá en Kaggle\n",
        "print(f\"\\n📄 Contenido del archivo submission.csv:\")\n",
        "print(submission.head(10).to_string(index=False))"
      ]
    },
    {
      "cell_type": "code",
      "execution_count": null,
      "id": "f2e28d69",
      "metadata": {
        "id": "f2e28d69"
      },
      "outputs": [],
      "source": [
        "# Guardar modelo y otros archivos\n",
        "model.save_model('catboost_model.cbm')\n",
        "print(\"\\n💾 Modelo guardado como 'catboost_model.cbm'\")"
      ]
    },
    {
      "cell_type": "code",
      "execution_count": null,
      "id": "b6631f25",
      "metadata": {
        "id": "b6631f25"
      },
      "outputs": [],
      "source": [
        "# Guardar feature\n",
        "feature_importance = model.get_feature_importance(prettified=True)\n",
        "feature_importance.to_csv('feature_importance.csv', index=False)\n",
        "print(\"📊 Importancia de características guardada como 'feature_importance.csv'\")"
      ]
    },
    {
      "cell_type": "code",
      "source": [
        "print(\"Final\")"
      ],
      "metadata": {
        "colab": {
          "base_uri": "https://localhost:8080/"
        },
        "id": "KB7wV32cqCiO",
        "outputId": "fd6093e3-71b4-4a02-91f1-2bce59e37d52"
      },
      "id": "KB7wV32cqCiO",
      "execution_count": 4,
      "outputs": [
        {
          "output_type": "stream",
          "name": "stdout",
          "text": [
            "Final\n"
          ]
        }
      ]
    }
  ],
  "metadata": {
    "jupytext": {
      "cell_metadata_filter": "-all",
      "main_language": "python",
      "notebook_metadata_filter": "-all"
    },
    "colab": {
      "provenance": [],
      "include_colab_link": true
    },
    "language_info": {
      "name": "python"
    },
    "kernelspec": {
      "name": "python3",
      "display_name": "Python 3"
    }
  },
  "nbformat": 4,
  "nbformat_minor": 5
}