{
  "nbformat": 4,
  "nbformat_minor": 0,
  "metadata": {
    "colab": {
      "provenance": [],
      "authorship_tag": "ABX9TyOHc/by/MnwrSa9cWlsnvf6",
      "include_colab_link": true
    },
    "kernelspec": {
      "name": "python3",
      "display_name": "Python 3"
    },
    "language_info": {
      "name": "python"
    }
  },
  "cells": [
    {
      "cell_type": "markdown",
      "metadata": {
        "id": "view-in-github",
        "colab_type": "text"
      },
      "source": [
        "<a href=\"https://colab.research.google.com/github/OswaldGutierrez/Modelos-IA-2025-1/blob/main/04%20-%20modelo%20con%20preprocesado%20y%20regresi%C3%B3n%20log%C3%ADstica.ipynb\" target=\"_parent\"><img src=\"https://colab.research.google.com/assets/colab-badge.svg\" alt=\"Open In Colab\"/></a>"
      ]
    },
    {
      "cell_type": "markdown",
      "source": [
        "<font size=\"6\">Modelo con preprocesado y Regresión Logística</font>\n",
        "\n",
        "**OSWALD DAVID GUTIÉRREZ CORTINA**"
      ],
      "metadata": {
        "id": "7eGFn9JPaqSf"
      }
    },
    {
      "cell_type": "code",
      "source": [
        "!pip install kaggle\n",
        "\n",
        "import pandas as pd\n",
        "import seaborn as sns\n",
        "import numpy as np\n",
        "import matplotlib.pyplot as plt\n",
        "import os\n",
        "import json\n",
        "from sklearn.model_selection import train_test_split\n",
        "from sklearn.linear_model import LogisticRegression\n",
        "from sklearn.metrics import accuracy_score, classification_report\n",
        "from sklearn.preprocessing import LabelEncoder\n",
        "import time\n",
        "\n",
        "!wget --no-cache -O init.py -q https://raw.githubusercontent.com/rramosp/ai4eng.v1/main/content/init.py\n",
        "import init; init.init(force_download=False); init.get_weblink()"
      ],
      "metadata": {
        "colab": {
          "base_uri": "https://localhost:8080/",
          "height": 335
        },
        "id": "jc26jPGGSb0-",
        "outputId": "adb35eca-b42d-4943-faff-f8036e441f5b"
      },
      "execution_count": 2,
      "outputs": [
        {
          "output_type": "stream",
          "name": "stdout",
          "text": [
            "Requirement already satisfied: kaggle in /usr/local/lib/python3.11/dist-packages (1.7.4.5)\n",
            "Requirement already satisfied: bleach in /usr/local/lib/python3.11/dist-packages (from kaggle) (6.2.0)\n",
            "Requirement already satisfied: certifi>=14.05.14 in /usr/local/lib/python3.11/dist-packages (from kaggle) (2025.6.15)\n",
            "Requirement already satisfied: charset-normalizer in /usr/local/lib/python3.11/dist-packages (from kaggle) (3.4.2)\n",
            "Requirement already satisfied: idna in /usr/local/lib/python3.11/dist-packages (from kaggle) (3.10)\n",
            "Requirement already satisfied: protobuf in /usr/local/lib/python3.11/dist-packages (from kaggle) (5.29.5)\n",
            "Requirement already satisfied: python-dateutil>=2.5.3 in /usr/local/lib/python3.11/dist-packages (from kaggle) (2.9.0.post0)\n",
            "Requirement already satisfied: python-slugify in /usr/local/lib/python3.11/dist-packages (from kaggle) (8.0.4)\n",
            "Requirement already satisfied: requests in /usr/local/lib/python3.11/dist-packages (from kaggle) (2.32.3)\n",
            "Requirement already satisfied: setuptools>=21.0.0 in /usr/local/lib/python3.11/dist-packages (from kaggle) (75.2.0)\n",
            "Requirement already satisfied: six>=1.10 in /usr/local/lib/python3.11/dist-packages (from kaggle) (1.17.0)\n",
            "Requirement already satisfied: text-unidecode in /usr/local/lib/python3.11/dist-packages (from kaggle) (1.3)\n",
            "Requirement already satisfied: tqdm in /usr/local/lib/python3.11/dist-packages (from kaggle) (4.67.1)\n",
            "Requirement already satisfied: urllib3>=1.15.1 in /usr/local/lib/python3.11/dist-packages (from kaggle) (2.4.0)\n",
            "Requirement already satisfied: webencodings in /usr/local/lib/python3.11/dist-packages (from kaggle) (0.5.1)\n"
          ]
        },
        {
          "output_type": "display_data",
          "data": {
            "text/plain": [
              "<IPython.core.display.HTML object>"
            ],
            "text/html": [
              "\n",
              "<meta name=\"google-signin-client_id\"\n",
              "      content=\"461673936472-kdjosv61up3ac1ajeuq6qqu72upilmls.apps.googleusercontent.com\"/>\n",
              "<script src=\"https://apis.google.com/js/client:platform.js?onload=google_button_start\"></script>\n",
              "    "
            ]
          },
          "metadata": {}
        },
        {
          "output_type": "stream",
          "name": "stdout",
          "text": [
            "replicating local resources\n"
          ]
        },
        {
          "output_type": "execute_result",
          "data": {
            "text/plain": [
              "<IPython.core.display.HTML object>"
            ],
            "text/html": [
              "<h3>See <a href='https://m5knaekxo6.execute-api.us-west-2.amazonaws.com/dev-v0001/rlxmooc/web/login' target='_blank'>my courses and progress</a></h2>"
            ]
          },
          "metadata": {},
          "execution_count": 2
        }
      ]
    },
    {
      "cell_type": "markdown",
      "source": [
        "<font size=\"5\">**1. Descargamos los archivos desde mi repositorio GitHub**</font>\n"
      ],
      "metadata": {
        "id": "aL9S-AoeauJe"
      }
    },
    {
      "cell_type": "code",
      "source": [
        "!wget https://raw.githubusercontent.com/OswaldGutierrez/contenidoTrain/main/train.zip\n",
        "!unzip train.zip\n",
        "df_train  = pd.read_csv(\"train.csv\")\n",
        "\n",
        "\n",
        "!wget https://raw.githubusercontent.com/OswaldGutierrez/contenidoTest/main/test.zip\n",
        "!unzip test.zip\n",
        "df_test  = pd.read_csv(\"test.csv\")"
      ],
      "metadata": {
        "colab": {
          "base_uri": "https://localhost:8080/"
        },
        "id": "ZzYjvFC3SdGF",
        "outputId": "7945cd6c-c127-453f-8cf0-505f16ad5131"
      },
      "execution_count": 3,
      "outputs": [
        {
          "output_type": "stream",
          "name": "stdout",
          "text": [
            "--2025-07-04 02:36:35--  https://raw.githubusercontent.com/OswaldGutierrez/contenidoTrain/main/train.zip\n",
            "Resolving raw.githubusercontent.com (raw.githubusercontent.com)... 185.199.108.133, 185.199.109.133, 185.199.110.133, ...\n",
            "Connecting to raw.githubusercontent.com (raw.githubusercontent.com)|185.199.108.133|:443... connected.\n",
            "HTTP request sent, awaiting response... 200 OK\n",
            "Length: 19235312 (18M) [application/zip]\n",
            "Saving to: ‘train.zip’\n",
            "\n",
            "train.zip           100%[===================>]  18.34M  --.-KB/s    in 0.1s    \n",
            "\n",
            "2025-07-04 02:36:36 (150 MB/s) - ‘train.zip’ saved [19235312/19235312]\n",
            "\n",
            "Archive:  train.zip\n",
            "  inflating: train.csv               \n",
            "--2025-07-04 02:36:40--  https://raw.githubusercontent.com/OswaldGutierrez/contenidoTest/main/test.zip\n",
            "Resolving raw.githubusercontent.com (raw.githubusercontent.com)... 185.199.108.133, 185.199.109.133, 185.199.110.133, ...\n",
            "Connecting to raw.githubusercontent.com (raw.githubusercontent.com)|185.199.108.133|:443... connected.\n",
            "HTTP request sent, awaiting response... 200 OK\n",
            "Length: 7963895 (7.6M) [application/zip]\n",
            "Saving to: ‘test.zip’\n",
            "\n",
            "test.zip            100%[===================>]   7.59M  --.-KB/s    in 0.09s   \n",
            "\n",
            "2025-07-04 02:36:40 (83.8 MB/s) - ‘test.zip’ saved [7963895/7963895]\n",
            "\n",
            "Archive:  test.zip\n",
            "  inflating: test.csv                \n"
          ]
        }
      ]
    },
    {
      "cell_type": "markdown",
      "source": [
        "<font size=\"5\">**2. Dimensiones de los Dataframes**</font>\n"
      ],
      "metadata": {
        "id": "Yb8iR5uhax01"
      }
    },
    {
      "cell_type": "code",
      "source": [
        "print (\"shape of loaded dataframe\", df_train.shape)\n",
        "print (\"shape of loaded dataframe\", df_test.shape)"
      ],
      "metadata": {
        "colab": {
          "base_uri": "https://localhost:8080/"
        },
        "id": "53SXRjK_Sg06",
        "outputId": "ca9e2b0e-e2c9-45ed-a426-e2a562bf8a66"
      },
      "execution_count": 4,
      "outputs": [
        {
          "output_type": "stream",
          "name": "stdout",
          "text": [
            "shape of loaded dataframe (692500, 21)\n",
            "shape of loaded dataframe (296786, 20)\n"
          ]
        }
      ]
    },
    {
      "cell_type": "markdown",
      "source": [
        "<font size=\"5\">**3. Función clean_data**</font>\n",
        "\n",
        "Se encarga de reemplazar los valores faltantes por la moda. Además, se normalizan los valores y se toma una columna como objetivo: ESTU_PRGM_ACADEMICO\n"
      ],
      "metadata": {
        "id": "_JLnrfXGa2I1"
      }
    },
    {
      "cell_type": "code",
      "source": [
        "def limpiarData(zCopia):\n",
        "    # Hacemos una copia para trabajar sobre ella\n",
        "    zCopia = zCopia.copy()\n",
        "\n",
        "    # Obtenemos las columnas categóricas.\n",
        "    ccols = [col for col in zCopia.columns if zCopia[col].dtype == 'object' and col != 'ID']\n",
        "    print(\"Categorical columns before detailed processing:\", ccols)\n",
        "\n",
        "    # Cambiamos los datos faltantes con los que más se repiten (moda)\n",
        "    for column in ccols:\n",
        "        if column in zCopia.columns:\n",
        "            valorComun = zCopia[column].mode()[0]\n",
        "            zCopia[column].fillna(valorComun, inplace=True)\n",
        "\n",
        "    # Normalizamos (Pasamos valores de string a enteros)\n",
        "    zCopia['ESTU_VALORMATRICULAUNIVERSIDAD'].replace({\n",
        "        'No pagó matrícula': 0,\n",
        "        'Menos de 500 mil': 1,\n",
        "        'Entre 500 mil y menos de 1 millón': 2,\n",
        "        'Entre 1 millón y menos de 2.5 millones': 3,\n",
        "        'Entre 2.5 millones y menos de 4 millones': 4,\n",
        "        'Entre 4 millones y menos de 5.5 millones': 5,\n",
        "        'Entre 5.5 millones y menos de 7 millones': 6,\n",
        "        'Más de 7 millones': 7\n",
        "    }, inplace=True)\n",
        "\n",
        "    zCopia['ESTU_HORASSEMANATRABAJA'].replace({\n",
        "        '0': 0,\n",
        "        'Menos de 10 horas': 1,\n",
        "        'Entre 11 y 20 horas': 2,\n",
        "        'Entre 21 y 30 horas': 3,\n",
        "        'Más de 30 horas': 4\n",
        "    }, inplace=True)\n",
        "\n",
        "    zCopia['FAMI_ESTRATOVIVIENDA'].replace({\n",
        "        'Estrato 1': 1,\n",
        "        'Estrato 2': 2,\n",
        "        'Estrato 3': 3,\n",
        "        'Estrato 4': 4,\n",
        "        'Estrato 5': 5,\n",
        "        'Estrato 6': 6,\n",
        "        'Sin Estrato': 0\n",
        "    }, inplace=True)\n",
        "\n",
        "    siNoCols = [\n",
        "        \"FAMI_TIENEINTERNET\",\n",
        "        \"ESTU_PAGOMATRICULAPROPIO\",\n",
        "        \"FAMI_TIENELAVADORA\",\n",
        "        \"FAMI_TIENEAUTOMOVIL\",\n",
        "        \"ESTU_PRIVADO_LIBERTAD\",\n",
        "        \"FAMI_TIENECOMPUTADOR\",\n",
        "        \"FAMI_TIENEINTERNET.1\"\n",
        "    ]\n",
        "    for col in siNoCols:\n",
        "        if col in zCopia.columns:\n",
        "            zCopia[col] = zCopia[col].astype(str)\n",
        "            zCopia[col].replace({'Si': 1, 'No': 0}, inplace=True)\n",
        "            zCopia[col] = pd.to_numeric(zCopia[col], errors='coerce')\n",
        "            zCopia[col].fillna(0, inplace=True)\n",
        "\n",
        "\n",
        "    # Limpiamos la columna objetivo 'ESTU_PRGM_ACADEMICO'\n",
        "    zCopia['ESTU_PRGM_ACADEMICO'] = zCopia['ESTU_PRGM_ACADEMICO'].str.replace('PROFESIONAL EN ', '', regex=False)\n",
        "    zCopia['ESTU_PRGM_ACADEMICO'] = zCopia['ESTU_PRGM_ACADEMICO'].str.replace('PROFESIONAL DE ', '', regex=False)\n",
        "    zCopia['ESTU_PRGM_ACADEMICO'] = zCopia['ESTU_PRGM_ACADEMICO'].str.replace('PROFESIONAL ', '', regex=False)\n",
        "    zCopia['ESTU_PRGM_ACADEMICO'] = zCopia['ESTU_PRGM_ACADEMICO'].str.replace('PROGRAMA ', '', regex=False)\n",
        "\n",
        "    replacements = {\n",
        "        'INGE': 'INGENIERIA', 'LIC': 'LICENCIATURA', 'Lic': 'LICENCIATURA',\n",
        "        'ADM': 'ADMINISTRACION', 'CONT': 'CONTADURIA', 'COMU': 'COMUNICACION',\n",
        "        'DEPORT': 'DEPORTE', 'PSIC': 'PSICOLOGIA', 'TRABAJO SOCIAL': 'TRABAJO SOCIAL',\n",
        "        'DISE': 'DISEÑO', 'TERAP': 'TERAPIA', 'GASTRON': 'GASTRONOMIA',\n",
        "        'ZOOTECNIA': 'VETERINARIA Y ZOOTECNIA', 'NUTRIC': 'NUTRICION',\n",
        "        'MARKETING': 'MARKETING', 'PUBLICIDAD': 'MARKETING', 'MERCAD': 'MARKETING',\n",
        "        'MATE': 'MATEMATICAS Y ESTADISTICA', 'ESTA': 'MATEMATICAS Y ESTADISTICA',\n",
        "        'ARTE': 'ARTES', 'PERIOD': 'PERIODISMO', 'LITER': 'LITERATURA',\n",
        "        'MUS': 'MUSICA', 'MÚS': 'MUSICA', 'ECONO': 'ECONOMIA Y NEGOCIOS',\n",
        "        'NEG': 'ECONOMIA Y NEGOCIOS', 'COME': 'ECONOMIA Y NEGOCIOS', 'FIN': 'ECONOMIA Y NEGOCIOS',\n",
        "        'GEO': 'CIENCIAS DE LA TIERRA', 'CINE': 'CIENCIAS AUDIOVISUALES',\n",
        "        'RADIO': 'CIENCIAS AUDIOVISUALES', 'TELEV': 'CIENCIAS AUDIOVISUALES',\n",
        "        'AUDIOV': 'CIENCIAS AUDIOVISUALES', 'FOTOG': 'CIENCIAS AUDIOVISUALES',\n",
        "        'DERECHO': 'DERECHO', 'POLIT': 'CIENCIAS POLITICAS', 'POLÍT': 'CIENCIAS POLITICAS',\n",
        "        'QUIM': 'QUIMICA', 'QUÍM': 'QUIMICA', 'QU¿M': 'QUIMICA',\n",
        "        'CONST': 'CONSTRUCCION', 'TURIS': 'TURISMO', 'BIBLIO': 'BIBLIOTECOLOGIA',\n",
        "        'FILOS': 'FILOSOFIA', 'FILOL': 'FILOLOGIA', 'ODONTOLOG': 'ODONTOLOGIA',\n",
        "        'BIOL': 'BIOLOGIA Y MICROBIOLOGIA', 'ECOL': 'ECOLOGIA', 'BACT': 'BACTERIOLOGIA',\n",
        "        'CULT': 'CIENCIAS CULTURALES', 'INSTRUMENTACION': 'INSTRUMENTACION QUIRURGICA',\n",
        "        'MILIT': 'CIENCIAS MARITIMAS Y AERONAUTICAS', 'NAVALES': 'CIENCIAS MARITIMAS Y AERONAUTICAS',\n",
        "        'NAU': 'CIENCIAS MARITIMAS Y AERONAUTICAS'\n",
        "    }\n",
        "\n",
        "    # Hacemos un remplazo\n",
        "    def aplicarRemplazosProgramas(text):\n",
        "        for key, value in replacements.items():\n",
        "            if key in text:\n",
        "                return value\n",
        "        return text\n",
        "\n",
        "    zCopia['ESTU_PRGM_ACADEMICO'] = zCopia['ESTU_PRGM_ACADEMICO'].apply(aplicarRemplazosProgramas)\n",
        "\n",
        "    # Agrupamos otras categorias\n",
        "    conteoDeValores = zCopia['ESTU_PRGM_ACADEMICO'].value_counts()\n",
        "    valoresMenores30 = conteoDeValores[conteoDeValores <= 30].index\n",
        "    zCopia.loc[zCopia['ESTU_PRGM_ACADEMICO'].isin(valoresMenores30), 'ESTU_PRGM_ACADEMICO'] = 'OTRO PROGRAMA'\n",
        "\n",
        "    # Aplicamos  one-hot encoding (Similar a la entrega #2)\n",
        "    zCopia = pd.get_dummies(zCopia, columns=[\"ESTU_PRGM_ACADEMICO\", \"ESTU_PRGM_DEPARTAMENTO\", \"FAMI_EDUCACIONPADRE\", \"FAMI_EDUCACIONMADRE\"], dtype=int)\n",
        "\n",
        "\n",
        "    return zCopia"
      ],
      "metadata": {
        "id": "ELXV5kTTSlqF"
      },
      "execution_count": 16,
      "outputs": []
    },
    {
      "cell_type": "markdown",
      "source": [
        "<font size=\"5\">**4. Limpiamos nuestros datos**</font>\n"
      ],
      "metadata": {
        "id": "hq_YSdEla47G"
      }
    },
    {
      "cell_type": "code",
      "source": [
        "lentr = len(df_train)\n",
        "\n",
        "trainLabels = df_train[['ID', 'RENDIMIENTO_GLOBAL']]\n",
        "\n",
        "# Definir las columnas de origen, excluyendo la variable objetivo\n",
        "colsOrigen = [i for i in df_train.columns if i != \"RENDIMIENTO_GLOBAL\"]\n",
        "\n",
        "# Combinar los datos de entrenamiento y prueba para preprocesamiento\n",
        "dataFull = pd.concat((df_train[colsOrigen], df_test[colsOrigen]))\n",
        "dataFull.index = range(len(dataFull))\n",
        "\n",
        "# Limpiar los datos usando la función limpiarData\n",
        "dataFull = limpiarData(dataFull)\n",
        "\n",
        "# Normaliamos valores\n",
        "for col in dataFull.columns:\n",
        "    if dataFull[col].dtype == 'bool':\n",
        "        dataFull[col] = dataFull[col].astype(int)\n",
        "\n",
        "# Dividir los datos combinados nuevamente en conjuntos de entrenamiento y prueba\n",
        "trainOks = dataFull[dataFull['ID'].isin(trainLabels['ID'])]\n",
        "test_listos = dataFull[~dataFull['ID'].isin(trainLabels['ID'])]\n",
        "\n",
        "trainOks = trainOks.merge(trainLabels, on='ID', how='left')"
      ],
      "metadata": {
        "colab": {
          "base_uri": "https://localhost:8080/"
        },
        "id": "oB0zbzqnSmMl",
        "outputId": "c396bf5b-2220-4343-f078-5be2c4cb555f"
      },
      "execution_count": 17,
      "outputs": [
        {
          "output_type": "stream",
          "name": "stdout",
          "text": [
            "Categorical columns before detailed processing: ['ESTU_PRGM_ACADEMICO', 'ESTU_PRGM_DEPARTAMENTO', 'ESTU_VALORMATRICULAUNIVERSIDAD', 'ESTU_HORASSEMANATRABAJA', 'FAMI_ESTRATOVIVIENDA', 'FAMI_TIENEINTERNET', 'FAMI_EDUCACIONPADRE', 'FAMI_TIENELAVADORA', 'FAMI_TIENEAUTOMOVIL', 'ESTU_PRIVADO_LIBERTAD', 'ESTU_PAGOMATRICULAPROPIO', 'FAMI_TIENECOMPUTADOR', 'FAMI_TIENEINTERNET.1', 'FAMI_EDUCACIONMADRE']\n"
          ]
        },
        {
          "output_type": "stream",
          "name": "stderr",
          "text": [
            "/tmp/ipython-input-16-1410235025.py:13: FutureWarning: A value is trying to be set on a copy of a DataFrame or Series through chained assignment using an inplace method.\n",
            "The behavior will change in pandas 3.0. This inplace method will never work because the intermediate object on which we are setting values always behaves as a copy.\n",
            "\n",
            "For example, when doing 'df[col].method(value, inplace=True)', try using 'df.method({col: value}, inplace=True)' or df[col] = df[col].method(value) instead, to perform the operation inplace on the original object.\n",
            "\n",
            "\n",
            "  zCopia[column].fillna(valorComun, inplace=True)\n",
            "/tmp/ipython-input-16-1410235025.py:16: FutureWarning: Downcasting behavior in `replace` is deprecated and will be removed in a future version. To retain the old behavior, explicitly call `result.infer_objects(copy=False)`. To opt-in to the future behavior, set `pd.set_option('future.no_silent_downcasting', True)`\n",
            "  zCopia['ESTU_VALORMATRICULAUNIVERSIDAD'].replace({\n",
            "/tmp/ipython-input-16-1410235025.py:27: FutureWarning: Downcasting behavior in `replace` is deprecated and will be removed in a future version. To retain the old behavior, explicitly call `result.infer_objects(copy=False)`. To opt-in to the future behavior, set `pd.set_option('future.no_silent_downcasting', True)`\n",
            "  zCopia['ESTU_HORASSEMANATRABAJA'].replace({\n",
            "/tmp/ipython-input-16-1410235025.py:35: FutureWarning: Downcasting behavior in `replace` is deprecated and will be removed in a future version. To retain the old behavior, explicitly call `result.infer_objects(copy=False)`. To opt-in to the future behavior, set `pd.set_option('future.no_silent_downcasting', True)`\n",
            "  zCopia['FAMI_ESTRATOVIVIENDA'].replace({\n",
            "/tmp/ipython-input-16-1410235025.py:57: FutureWarning: A value is trying to be set on a copy of a DataFrame or Series through chained assignment using an inplace method.\n",
            "The behavior will change in pandas 3.0. This inplace method will never work because the intermediate object on which we are setting values always behaves as a copy.\n",
            "\n",
            "For example, when doing 'df[col].method(value, inplace=True)', try using 'df.method({col: value}, inplace=True)' or df[col] = df[col].method(value) instead, to perform the operation inplace on the original object.\n",
            "\n",
            "\n",
            "  zCopia[col].replace({'Si': 1, 'No': 0}, inplace=True)\n",
            "/tmp/ipython-input-16-1410235025.py:57: FutureWarning: Downcasting behavior in `replace` is deprecated and will be removed in a future version. To retain the old behavior, explicitly call `result.infer_objects(copy=False)`. To opt-in to the future behavior, set `pd.set_option('future.no_silent_downcasting', True)`\n",
            "  zCopia[col].replace({'Si': 1, 'No': 0}, inplace=True)\n",
            "/tmp/ipython-input-16-1410235025.py:59: FutureWarning: A value is trying to be set on a copy of a DataFrame or Series through chained assignment using an inplace method.\n",
            "The behavior will change in pandas 3.0. This inplace method will never work because the intermediate object on which we are setting values always behaves as a copy.\n",
            "\n",
            "For example, when doing 'df[col].method(value, inplace=True)', try using 'df.method({col: value}, inplace=True)' or df[col] = df[col].method(value) instead, to perform the operation inplace on the original object.\n",
            "\n",
            "\n",
            "  zCopia[col].fillna(0, inplace=True)\n",
            "/tmp/ipython-input-16-1410235025.py:57: FutureWarning: A value is trying to be set on a copy of a DataFrame or Series through chained assignment using an inplace method.\n",
            "The behavior will change in pandas 3.0. This inplace method will never work because the intermediate object on which we are setting values always behaves as a copy.\n",
            "\n",
            "For example, when doing 'df[col].method(value, inplace=True)', try using 'df.method({col: value}, inplace=True)' or df[col] = df[col].method(value) instead, to perform the operation inplace on the original object.\n",
            "\n",
            "\n",
            "  zCopia[col].replace({'Si': 1, 'No': 0}, inplace=True)\n",
            "/tmp/ipython-input-16-1410235025.py:57: FutureWarning: Downcasting behavior in `replace` is deprecated and will be removed in a future version. To retain the old behavior, explicitly call `result.infer_objects(copy=False)`. To opt-in to the future behavior, set `pd.set_option('future.no_silent_downcasting', True)`\n",
            "  zCopia[col].replace({'Si': 1, 'No': 0}, inplace=True)\n",
            "/tmp/ipython-input-16-1410235025.py:59: FutureWarning: A value is trying to be set on a copy of a DataFrame or Series through chained assignment using an inplace method.\n",
            "The behavior will change in pandas 3.0. This inplace method will never work because the intermediate object on which we are setting values always behaves as a copy.\n",
            "\n",
            "For example, when doing 'df[col].method(value, inplace=True)', try using 'df.method({col: value}, inplace=True)' or df[col] = df[col].method(value) instead, to perform the operation inplace on the original object.\n",
            "\n",
            "\n",
            "  zCopia[col].fillna(0, inplace=True)\n",
            "/tmp/ipython-input-16-1410235025.py:57: FutureWarning: A value is trying to be set on a copy of a DataFrame or Series through chained assignment using an inplace method.\n",
            "The behavior will change in pandas 3.0. This inplace method will never work because the intermediate object on which we are setting values always behaves as a copy.\n",
            "\n",
            "For example, when doing 'df[col].method(value, inplace=True)', try using 'df.method({col: value}, inplace=True)' or df[col] = df[col].method(value) instead, to perform the operation inplace on the original object.\n",
            "\n",
            "\n",
            "  zCopia[col].replace({'Si': 1, 'No': 0}, inplace=True)\n",
            "/tmp/ipython-input-16-1410235025.py:57: FutureWarning: Downcasting behavior in `replace` is deprecated and will be removed in a future version. To retain the old behavior, explicitly call `result.infer_objects(copy=False)`. To opt-in to the future behavior, set `pd.set_option('future.no_silent_downcasting', True)`\n",
            "  zCopia[col].replace({'Si': 1, 'No': 0}, inplace=True)\n",
            "/tmp/ipython-input-16-1410235025.py:59: FutureWarning: A value is trying to be set on a copy of a DataFrame or Series through chained assignment using an inplace method.\n",
            "The behavior will change in pandas 3.0. This inplace method will never work because the intermediate object on which we are setting values always behaves as a copy.\n",
            "\n",
            "For example, when doing 'df[col].method(value, inplace=True)', try using 'df.method({col: value}, inplace=True)' or df[col] = df[col].method(value) instead, to perform the operation inplace on the original object.\n",
            "\n",
            "\n",
            "  zCopia[col].fillna(0, inplace=True)\n",
            "/tmp/ipython-input-16-1410235025.py:57: FutureWarning: A value is trying to be set on a copy of a DataFrame or Series through chained assignment using an inplace method.\n",
            "The behavior will change in pandas 3.0. This inplace method will never work because the intermediate object on which we are setting values always behaves as a copy.\n",
            "\n",
            "For example, when doing 'df[col].method(value, inplace=True)', try using 'df.method({col: value}, inplace=True)' or df[col] = df[col].method(value) instead, to perform the operation inplace on the original object.\n",
            "\n",
            "\n",
            "  zCopia[col].replace({'Si': 1, 'No': 0}, inplace=True)\n",
            "/tmp/ipython-input-16-1410235025.py:57: FutureWarning: Downcasting behavior in `replace` is deprecated and will be removed in a future version. To retain the old behavior, explicitly call `result.infer_objects(copy=False)`. To opt-in to the future behavior, set `pd.set_option('future.no_silent_downcasting', True)`\n",
            "  zCopia[col].replace({'Si': 1, 'No': 0}, inplace=True)\n",
            "/tmp/ipython-input-16-1410235025.py:59: FutureWarning: A value is trying to be set on a copy of a DataFrame or Series through chained assignment using an inplace method.\n",
            "The behavior will change in pandas 3.0. This inplace method will never work because the intermediate object on which we are setting values always behaves as a copy.\n",
            "\n",
            "For example, when doing 'df[col].method(value, inplace=True)', try using 'df.method({col: value}, inplace=True)' or df[col] = df[col].method(value) instead, to perform the operation inplace on the original object.\n",
            "\n",
            "\n",
            "  zCopia[col].fillna(0, inplace=True)\n",
            "/tmp/ipython-input-16-1410235025.py:57: FutureWarning: A value is trying to be set on a copy of a DataFrame or Series through chained assignment using an inplace method.\n",
            "The behavior will change in pandas 3.0. This inplace method will never work because the intermediate object on which we are setting values always behaves as a copy.\n",
            "\n",
            "For example, when doing 'df[col].method(value, inplace=True)', try using 'df.method({col: value}, inplace=True)' or df[col] = df[col].method(value) instead, to perform the operation inplace on the original object.\n",
            "\n",
            "\n",
            "  zCopia[col].replace({'Si': 1, 'No': 0}, inplace=True)\n",
            "/tmp/ipython-input-16-1410235025.py:59: FutureWarning: A value is trying to be set on a copy of a DataFrame or Series through chained assignment using an inplace method.\n",
            "The behavior will change in pandas 3.0. This inplace method will never work because the intermediate object on which we are setting values always behaves as a copy.\n",
            "\n",
            "For example, when doing 'df[col].method(value, inplace=True)', try using 'df.method({col: value}, inplace=True)' or df[col] = df[col].method(value) instead, to perform the operation inplace on the original object.\n",
            "\n",
            "\n",
            "  zCopia[col].fillna(0, inplace=True)\n",
            "/tmp/ipython-input-16-1410235025.py:57: FutureWarning: A value is trying to be set on a copy of a DataFrame or Series through chained assignment using an inplace method.\n",
            "The behavior will change in pandas 3.0. This inplace method will never work because the intermediate object on which we are setting values always behaves as a copy.\n",
            "\n",
            "For example, when doing 'df[col].method(value, inplace=True)', try using 'df.method({col: value}, inplace=True)' or df[col] = df[col].method(value) instead, to perform the operation inplace on the original object.\n",
            "\n",
            "\n",
            "  zCopia[col].replace({'Si': 1, 'No': 0}, inplace=True)\n",
            "/tmp/ipython-input-16-1410235025.py:57: FutureWarning: Downcasting behavior in `replace` is deprecated and will be removed in a future version. To retain the old behavior, explicitly call `result.infer_objects(copy=False)`. To opt-in to the future behavior, set `pd.set_option('future.no_silent_downcasting', True)`\n",
            "  zCopia[col].replace({'Si': 1, 'No': 0}, inplace=True)\n",
            "/tmp/ipython-input-16-1410235025.py:59: FutureWarning: A value is trying to be set on a copy of a DataFrame or Series through chained assignment using an inplace method.\n",
            "The behavior will change in pandas 3.0. This inplace method will never work because the intermediate object on which we are setting values always behaves as a copy.\n",
            "\n",
            "For example, when doing 'df[col].method(value, inplace=True)', try using 'df.method({col: value}, inplace=True)' or df[col] = df[col].method(value) instead, to perform the operation inplace on the original object.\n",
            "\n",
            "\n",
            "  zCopia[col].fillna(0, inplace=True)\n",
            "/tmp/ipython-input-16-1410235025.py:57: FutureWarning: A value is trying to be set on a copy of a DataFrame or Series through chained assignment using an inplace method.\n",
            "The behavior will change in pandas 3.0. This inplace method will never work because the intermediate object on which we are setting values always behaves as a copy.\n",
            "\n",
            "For example, when doing 'df[col].method(value, inplace=True)', try using 'df.method({col: value}, inplace=True)' or df[col] = df[col].method(value) instead, to perform the operation inplace on the original object.\n",
            "\n",
            "\n",
            "  zCopia[col].replace({'Si': 1, 'No': 0}, inplace=True)\n",
            "/tmp/ipython-input-16-1410235025.py:57: FutureWarning: Downcasting behavior in `replace` is deprecated and will be removed in a future version. To retain the old behavior, explicitly call `result.infer_objects(copy=False)`. To opt-in to the future behavior, set `pd.set_option('future.no_silent_downcasting', True)`\n",
            "  zCopia[col].replace({'Si': 1, 'No': 0}, inplace=True)\n",
            "/tmp/ipython-input-16-1410235025.py:59: FutureWarning: A value is trying to be set on a copy of a DataFrame or Series through chained assignment using an inplace method.\n",
            "The behavior will change in pandas 3.0. This inplace method will never work because the intermediate object on which we are setting values always behaves as a copy.\n",
            "\n",
            "For example, when doing 'df[col].method(value, inplace=True)', try using 'df.method({col: value}, inplace=True)' or df[col] = df[col].method(value) instead, to perform the operation inplace on the original object.\n",
            "\n",
            "\n",
            "  zCopia[col].fillna(0, inplace=True)\n"
          ]
        }
      ]
    },
    {
      "cell_type": "code",
      "source": [
        "# Convertimos las 4 categorias de rendimiento a valores enteros\n",
        "labelEncoder = LabelEncoder()\n",
        "trainOks['RENDIMIENTO_GLOBAL'] = labelEncoder.fit_transform(trainOks['RENDIMIENTO_GLOBAL'])"
      ],
      "metadata": {
        "id": "PY-qtdroSpeS"
      },
      "execution_count": 18,
      "outputs": []
    },
    {
      "cell_type": "code",
      "source": [
        "\n",
        "# Dividimos la base de datos train en entrenamiento y testeo\n",
        "X = trainOks.drop(['RENDIMIENTO_GLOBAL', 'ID'], axis=1)\n",
        "y = trainOks['RENDIMIENTO_GLOBAL']\n",
        "\n",
        "X_train, X_test, y_train, y_test = train_test_split(X, y, test_size=0.2, random_state=42)"
      ],
      "metadata": {
        "id": "y0pV7WDrSqvR"
      },
      "execution_count": 19,
      "outputs": []
    },
    {
      "cell_type": "markdown",
      "source": [
        "<font size=\"5\">**5. Entrenamiento del modelo**</font>\n"
      ],
      "metadata": {
        "id": "2b7eTa8Va7_Q"
      }
    },
    {
      "cell_type": "code",
      "source": [
        "# Realizamos el entrenamiento.\n",
        "start_time = time.time()\n",
        "\n",
        "modeloLogs = LogisticRegression(\n",
        "    multi_class='multinomial',\n",
        "    solver='saga',\n",
        "    max_iter=200,\n",
        "    n_jobs=-1,\n",
        "    random_state=42\n",
        ")\n",
        "\n",
        "modeloLogs.fit(X_train, y_train)\n",
        "end_time = time.time()"
      ],
      "metadata": {
        "colab": {
          "base_uri": "https://localhost:8080/"
        },
        "id": "0iSecggSSr9k",
        "outputId": "d404ccf9-575d-42c7-9c40-2a8383c48bc9"
      },
      "execution_count": 20,
      "outputs": [
        {
          "output_type": "stream",
          "name": "stderr",
          "text": [
            "/usr/local/lib/python3.11/dist-packages/sklearn/linear_model/_logistic.py:1247: FutureWarning: 'multi_class' was deprecated in version 1.5 and will be removed in 1.7. From then on, it will always use 'multinomial'. Leave it to its default value to avoid this warning.\n",
            "  warnings.warn(\n",
            "/usr/local/lib/python3.11/dist-packages/sklearn/linear_model/_sag.py:348: ConvergenceWarning: The max_iter was reached which means the coef_ did not converge\n",
            "  warnings.warn(\n"
          ]
        }
      ]
    },
    {
      "cell_type": "code",
      "source": [
        "# Predecir en el conjunto de prueba\n",
        "y_pred = modeloLogs.predict(X_test)\n",
        "accuracy = accuracy_score(y_test, y_pred)\n",
        "\n",
        "print(f'Accuracy: {accuracy}')\n",
        "print(f'Tiempo de entrenamiento: {end_time - start_time} segundos')"
      ],
      "metadata": {
        "colab": {
          "base_uri": "https://localhost:8080/"
        },
        "id": "e1neP_-VSto3",
        "outputId": "73ab826c-eeda-4134-9571-eb75406fc364"
      },
      "execution_count": 21,
      "outputs": [
        {
          "output_type": "stream",
          "name": "stdout",
          "text": [
            "Accuracy: 0.3439061371841155\n",
            "Tiempo de entrenamiento: 620.2924485206604 segundos\n"
          ]
        }
      ]
    }
  ]
}