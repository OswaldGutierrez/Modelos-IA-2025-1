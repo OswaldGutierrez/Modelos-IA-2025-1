{
  "nbformat": 4,
  "nbformat_minor": 0,
  "metadata": {
    "colab": {
      "provenance": [],
      "authorship_tag": "ABX9TyPg3Rw4cTO8UFqXu76mArJo",
      "include_colab_link": true
    },
    "kernelspec": {
      "name": "python3",
      "display_name": "Python 3"
    },
    "language_info": {
      "name": "python"
    }
  },
  "cells": [
    {
      "cell_type": "markdown",
      "metadata": {
        "id": "view-in-github",
        "colab_type": "text"
      },
      "source": [
        "<a href=\"https://colab.research.google.com/github/OswaldGutierrez/Modelos-IA-2025-1/blob/main/03%20-%20modelo%20con%20preprocesado%20por%20moda%20y%20gaussiano.ipynb.ipynb\" target=\"_parent\"><img src=\"https://colab.research.google.com/assets/colab-badge.svg\" alt=\"Open In Colab\"/></a>"
      ]
    },
    {
      "cell_type": "markdown",
      "source": [
        "<font size=\"6\">Modelo con preprocesado por moda y gaussiano</font>\n",
        "\n",
        "**OSWALD DAVID GUTIÉRREZ CORTINA**"
      ],
      "metadata": {
        "id": "3XzOqai4fapS"
      }
    },
    {
      "cell_type": "code",
      "execution_count": 1,
      "metadata": {
        "colab": {
          "base_uri": "https://localhost:8080/",
          "height": 335
        },
        "id": "RF6c7PqNbPdd",
        "outputId": "e599a757-bc9b-4f10-b1f9-3eee9b79030d"
      },
      "outputs": [
        {
          "output_type": "stream",
          "name": "stdout",
          "text": [
            "Requirement already satisfied: kaggle in /usr/local/lib/python3.11/dist-packages (1.7.4.5)\n",
            "Requirement already satisfied: bleach in /usr/local/lib/python3.11/dist-packages (from kaggle) (6.2.0)\n",
            "Requirement already satisfied: certifi>=14.05.14 in /usr/local/lib/python3.11/dist-packages (from kaggle) (2025.6.15)\n",
            "Requirement already satisfied: charset-normalizer in /usr/local/lib/python3.11/dist-packages (from kaggle) (3.4.2)\n",
            "Requirement already satisfied: idna in /usr/local/lib/python3.11/dist-packages (from kaggle) (3.10)\n",
            "Requirement already satisfied: protobuf in /usr/local/lib/python3.11/dist-packages (from kaggle) (5.29.5)\n",
            "Requirement already satisfied: python-dateutil>=2.5.3 in /usr/local/lib/python3.11/dist-packages (from kaggle) (2.9.0.post0)\n",
            "Requirement already satisfied: python-slugify in /usr/local/lib/python3.11/dist-packages (from kaggle) (8.0.4)\n",
            "Requirement already satisfied: requests in /usr/local/lib/python3.11/dist-packages (from kaggle) (2.32.3)\n",
            "Requirement already satisfied: setuptools>=21.0.0 in /usr/local/lib/python3.11/dist-packages (from kaggle) (75.2.0)\n",
            "Requirement already satisfied: six>=1.10 in /usr/local/lib/python3.11/dist-packages (from kaggle) (1.17.0)\n",
            "Requirement already satisfied: text-unidecode in /usr/local/lib/python3.11/dist-packages (from kaggle) (1.3)\n",
            "Requirement already satisfied: tqdm in /usr/local/lib/python3.11/dist-packages (from kaggle) (4.67.1)\n",
            "Requirement already satisfied: urllib3>=1.15.1 in /usr/local/lib/python3.11/dist-packages (from kaggle) (2.4.0)\n",
            "Requirement already satisfied: webencodings in /usr/local/lib/python3.11/dist-packages (from kaggle) (0.5.1)\n"
          ]
        },
        {
          "output_type": "display_data",
          "data": {
            "text/plain": [
              "<IPython.core.display.HTML object>"
            ],
            "text/html": [
              "\n",
              "<meta name=\"google-signin-client_id\"\n",
              "      content=\"461673936472-kdjosv61up3ac1ajeuq6qqu72upilmls.apps.googleusercontent.com\"/>\n",
              "<script src=\"https://apis.google.com/js/client:platform.js?onload=google_button_start\"></script>\n",
              "    "
            ]
          },
          "metadata": {}
        },
        {
          "output_type": "stream",
          "name": "stdout",
          "text": [
            "replicating local resources\n"
          ]
        },
        {
          "output_type": "execute_result",
          "data": {
            "text/plain": [
              "<IPython.core.display.HTML object>"
            ],
            "text/html": [
              "<h3>See <a href='https://m5knaekxo6.execute-api.us-west-2.amazonaws.com/dev-v0001/rlxmooc/web/login' target='_blank'>my courses and progress</a></h2>"
            ]
          },
          "metadata": {},
          "execution_count": 1
        }
      ],
      "source": [
        "!pip install kaggle\n",
        "\n",
        "import pandas as pd\n",
        "import seaborn as sns\n",
        "import numpy as np\n",
        "import matplotlib.pyplot as plt\n",
        "import os\n",
        "import json\n",
        "\n",
        "!wget --no-cache -O init.py -q https://raw.githubusercontent.com/rramosp/ai4eng.v1/main/content/init.py\n",
        "import init; init.init(force_download=False); init.get_weblink()"
      ]
    },
    {
      "cell_type": "markdown",
      "source": [
        "<font size=\"5\">**1. Descargamos los archivos desde mi repositorio GitHub**</font>\n"
      ],
      "metadata": {
        "id": "rnviVp6Pfkey"
      }
    },
    {
      "cell_type": "code",
      "source": [
        "# Descargamos el archivo train\n",
        "!wget https://raw.githubusercontent.com/OswaldGutierrez/contenidoTrain/main/train.zip\n",
        "!unzip train.zip\n",
        "df_train  = pd.read_csv(\"train.csv\")\n",
        "\n",
        "# Descargamos el archivo test\n",
        "!wget https://raw.githubusercontent.com/OswaldGutierrez/contenidoTest/main/test.zip\n",
        "!unzip test.zip\n",
        "df_test  = pd.read_csv(\"test.csv\")"
      ],
      "metadata": {
        "colab": {
          "base_uri": "https://localhost:8080/"
        },
        "id": "TcQeRxBdbUcO",
        "outputId": "de8402b5-b1cb-4b35-9551-0bfc3c4a8664"
      },
      "execution_count": 2,
      "outputs": [
        {
          "output_type": "stream",
          "name": "stdout",
          "text": [
            "--2025-07-04 03:14:47--  https://raw.githubusercontent.com/OswaldGutierrez/contenidoTrain/main/train.zip\n",
            "Resolving raw.githubusercontent.com (raw.githubusercontent.com)... 185.199.108.133, 185.199.109.133, 185.199.110.133, ...\n",
            "Connecting to raw.githubusercontent.com (raw.githubusercontent.com)|185.199.108.133|:443... connected.\n",
            "HTTP request sent, awaiting response... 200 OK\n",
            "Length: 19235312 (18M) [application/zip]\n",
            "Saving to: ‘train.zip’\n",
            "\n",
            "train.zip           100%[===================>]  18.34M  --.-KB/s    in 0.1s    \n",
            "\n",
            "2025-07-04 03:14:47 (141 MB/s) - ‘train.zip’ saved [19235312/19235312]\n",
            "\n",
            "Archive:  train.zip\n",
            "  inflating: train.csv               \n",
            "--2025-07-04 03:14:51--  https://raw.githubusercontent.com/OswaldGutierrez/contenidoTest/main/test.zip\n",
            "Resolving raw.githubusercontent.com (raw.githubusercontent.com)... 185.199.108.133, 185.199.109.133, 185.199.110.133, ...\n",
            "Connecting to raw.githubusercontent.com (raw.githubusercontent.com)|185.199.108.133|:443... connected.\n",
            "HTTP request sent, awaiting response... 200 OK\n",
            "Length: 7963895 (7.6M) [application/zip]\n",
            "Saving to: ‘test.zip’\n",
            "\n",
            "test.zip            100%[===================>]   7.59M  --.-KB/s    in 0.1s    \n",
            "\n",
            "2025-07-04 03:14:51 (72.3 MB/s) - ‘test.zip’ saved [7963895/7963895]\n",
            "\n",
            "Archive:  test.zip\n",
            "  inflating: test.csv                \n"
          ]
        }
      ]
    },
    {
      "cell_type": "markdown",
      "source": [
        "<font size=\"5\">**2. Dimensiones de los Dataframes**</font>\n"
      ],
      "metadata": {
        "id": "GUdaFAKbfloH"
      }
    },
    {
      "cell_type": "code",
      "source": [
        "print (\"shape of loaded dataframe\", df_train.shape)\n",
        "print (\"shape of loaded dataframe\", df_test.shape)"
      ],
      "metadata": {
        "colab": {
          "base_uri": "https://localhost:8080/"
        },
        "id": "HtiylCw7baYj",
        "outputId": "78d1d108-a7a4-4f83-9fae-e098c6c0f26c"
      },
      "execution_count": 3,
      "outputs": [
        {
          "output_type": "stream",
          "name": "stdout",
          "text": [
            "shape of loaded dataframe (692500, 21)\n",
            "shape of loaded dataframe (296786, 20)\n"
          ]
        }
      ]
    },
    {
      "cell_type": "markdown",
      "source": [
        "<font size=\"5\">**3. Función limpiarData**</font>\n",
        "\n",
        "Se encarga de reemplazar los valores faltantes por la moda. Además, se normalizan los valores y se toma una columna como objetivo: ESTU_PRGM_ACADEMICO\n"
      ],
      "metadata": {
        "id": "R-wvIfDVfq3l"
      }
    },
    {
      "cell_type": "code",
      "source": [
        "def limpiarData(zCopia):\n",
        "    # Hacemos una copia para trabajar sobre ella\n",
        "    zCopia = zCopia.copy()\n",
        "\n",
        "    # Obtenemos las columnas categóricas.\n",
        "    ccols = [col for col in zCopia.columns if zCopia[col].dtype == 'object' and col != 'ID']\n",
        "    print(\"Categorical columns before detailed processing:\", ccols)\n",
        "\n",
        "    # Cambiamos los datos faltantes con los que más se repiten (moda)\n",
        "    for column in ccols:\n",
        "        if column in zCopia.columns:\n",
        "            valorComun = zCopia[column].mode()[0]\n",
        "            zCopia[column].fillna(valorComun, inplace=True)\n",
        "\n",
        "    # Normalizamos (Pasamos valores de string a enteros)\n",
        "    zCopia['ESTU_VALORMATRICULAUNIVERSIDAD'].replace({\n",
        "        'No pagó matrícula': 0,\n",
        "        'Menos de 500 mil': 1,\n",
        "        'Entre 500 mil y menos de 1 millón': 2,\n",
        "        'Entre 1 millón y menos de 2.5 millones': 3,\n",
        "        'Entre 2.5 millones y menos de 4 millones': 4,\n",
        "        'Entre 4 millones y menos de 5.5 millones': 5,\n",
        "        'Entre 5.5 millones y menos de 7 millones': 6,\n",
        "        'Más de 7 millones': 7\n",
        "    }, inplace=True)\n",
        "\n",
        "    zCopia['ESTU_HORASSEMANATRABAJA'].replace({\n",
        "        '0': 0,\n",
        "        'Menos de 10 horas': 1,\n",
        "        'Entre 11 y 20 horas': 2,\n",
        "        'Entre 21 y 30 horas': 3,\n",
        "        'Más de 30 horas': 4\n",
        "    }, inplace=True)\n",
        "\n",
        "    zCopia['FAMI_ESTRATOVIVIENDA'].replace({\n",
        "        'Estrato 1': 1,\n",
        "        'Estrato 2': 2,\n",
        "        'Estrato 3': 3,\n",
        "        'Estrato 4': 4,\n",
        "        'Estrato 5': 5,\n",
        "        'Estrato 6': 6,\n",
        "        'Sin Estrato': 0\n",
        "    }, inplace=True)\n",
        "\n",
        "    siNoCols = [\n",
        "        \"FAMI_TIENEINTERNET\",\n",
        "        \"ESTU_PAGOMATRICULAPROPIO\",\n",
        "        \"FAMI_TIENELAVADORA\",\n",
        "        \"FAMI_TIENEAUTOMOVIL\",\n",
        "        \"ESTU_PRIVADO_LIBERTAD\",\n",
        "        \"FAMI_TIENECOMPUTADOR\",\n",
        "        \"FAMI_TIENEINTERNET.1\"\n",
        "    ]\n",
        "    for col in siNoCols:\n",
        "        if col in zCopia.columns:\n",
        "            zCopia[col] = zCopia[col].astype(str)\n",
        "            zCopia[col].replace({'Si': 1, 'No': 0}, inplace=True)\n",
        "            zCopia[col] = pd.to_numeric(zCopia[col], errors='coerce')\n",
        "            zCopia[col].fillna(0, inplace=True)\n",
        "\n",
        "\n",
        "    # Limpiamos la columna objetivo 'ESTU_PRGM_ACADEMICO'\n",
        "    zCopia['ESTU_PRGM_ACADEMICO'] = zCopia['ESTU_PRGM_ACADEMICO'].str.replace('PROFESIONAL EN ', '', regex=False)\n",
        "    zCopia['ESTU_PRGM_ACADEMICO'] = zCopia['ESTU_PRGM_ACADEMICO'].str.replace('PROFESIONAL DE ', '', regex=False)\n",
        "    zCopia['ESTU_PRGM_ACADEMICO'] = zCopia['ESTU_PRGM_ACADEMICO'].str.replace('PROFESIONAL ', '', regex=False)\n",
        "    zCopia['ESTU_PRGM_ACADEMICO'] = zCopia['ESTU_PRGM_ACADEMICO'].str.replace('PROGRAMA ', '', regex=False)\n",
        "\n",
        "    replacements = {\n",
        "        'INGE': 'INGENIERIA', 'LIC': 'LICENCIATURA', 'Lic': 'LICENCIATURA',\n",
        "        'ADM': 'ADMINISTRACION', 'CONT': 'CONTADURIA', 'COMU': 'COMUNICACION',\n",
        "        'DEPORT': 'DEPORTE', 'PSIC': 'PSICOLOGIA', 'TRABAJO SOCIAL': 'TRABAJO SOCIAL',\n",
        "        'DISE': 'DISEÑO', 'TERAP': 'TERAPIA', 'GASTRON': 'GASTRONOMIA',\n",
        "        'ZOOTECNIA': 'VETERINARIA Y ZOOTECNIA', 'NUTRIC': 'NUTRICION',\n",
        "        'MARKETING': 'MARKETING', 'PUBLICIDAD': 'MARKETING', 'MERCAD': 'MARKETING',\n",
        "        'MATE': 'MATEMATICAS Y ESTADISTICA', 'ESTA': 'MATEMATICAS Y ESTADISTICA',\n",
        "        'ARTE': 'ARTES', 'PERIOD': 'PERIODISMO', 'LITER': 'LITERATURA',\n",
        "        'MUS': 'MUSICA', 'MÚS': 'MUSICA', 'ECONO': 'ECONOMIA Y NEGOCIOS',\n",
        "        'NEG': 'ECONOMIA Y NEGOCIOS', 'COME': 'ECONOMIA Y NEGOCIOS', 'FIN': 'ECONOMIA Y NEGOCIOS',\n",
        "        'GEO': 'CIENCIAS DE LA TIERRA', 'CINE': 'CIENCIAS AUDIOVISUALES',\n",
        "        'RADIO': 'CIENCIAS AUDIOVISUALES', 'TELEV': 'CIENCIAS AUDIOVISUALES',\n",
        "        'AUDIOV': 'CIENCIAS AUDIOVISUALES', 'FOTOG': 'CIENCIAS AUDIOVISUALES',\n",
        "        'DERECHO': 'DERECHO', 'POLIT': 'CIENCIAS POLITICAS', 'POLÍT': 'CIENCIAS POLITICAS',\n",
        "        'QUIM': 'QUIMICA', 'QUÍM': 'QUIMICA', 'QU¿M': 'QUIMICA',\n",
        "        'CONST': 'CONSTRUCCION', 'TURIS': 'TURISMO', 'BIBLIO': 'BIBLIOTECOLOGIA',\n",
        "        'FILOS': 'FILOSOFIA', 'FILOL': 'FILOLOGIA', 'ODONTOLOG': 'ODONTOLOGIA',\n",
        "        'BIOL': 'BIOLOGIA Y MICROBIOLOGIA', 'ECOL': 'ECOLOGIA', 'BACT': 'BACTERIOLOGIA',\n",
        "        'CULT': 'CIENCIAS CULTURALES', 'INSTRUMENTACION': 'INSTRUMENTACION QUIRURGICA',\n",
        "        'MILIT': 'CIENCIAS MARITIMAS Y AERONAUTICAS', 'NAVALES': 'CIENCIAS MARITIMAS Y AERONAUTICAS',\n",
        "        'NAU': 'CIENCIAS MARITIMAS Y AERONAUTICAS'\n",
        "    }\n",
        "\n",
        "    # Hacemos un remplazo\n",
        "    def aplicarRemplazosProgramas(text):\n",
        "        for key, value in replacements.items():\n",
        "            if key in text:\n",
        "                return value\n",
        "        return text\n",
        "\n",
        "    zCopia['ESTU_PRGM_ACADEMICO'] = zCopia['ESTU_PRGM_ACADEMICO'].apply(aplicarRemplazosProgramas)\n",
        "\n",
        "    # Agrupamos otras categorias\n",
        "    conteoDeValores = zCopia['ESTU_PRGM_ACADEMICO'].value_counts()\n",
        "    valoresMenores30 = conteoDeValores[conteoDeValores <= 30].index\n",
        "    zCopia.loc[zCopia['ESTU_PRGM_ACADEMICO'].isin(valoresMenores30), 'ESTU_PRGM_ACADEMICO'] = 'OTRO PROGRAMA'\n",
        "\n",
        "    # Aplicamos  one-hot encoding (Similar a la entrega #2)\n",
        "    zCopia = pd.get_dummies(zCopia, columns=[\"ESTU_PRGM_ACADEMICO\", \"ESTU_PRGM_DEPARTAMENTO\", \"FAMI_EDUCACIONPADRE\", \"FAMI_EDUCACIONMADRE\"], dtype=int)\n",
        "\n",
        "\n",
        "    return zCopia"
      ],
      "metadata": {
        "id": "LVSQrSP7banq"
      },
      "execution_count": 10,
      "outputs": []
    },
    {
      "cell_type": "markdown",
      "source": [
        "<font size=\"5\">**4. Limpiamos nuestros datos**</font>\n"
      ],
      "metadata": {
        "id": "B0GL-rK4fx7B"
      }
    },
    {
      "cell_type": "code",
      "source": [
        "lentr = len(df_train)\n",
        "\n",
        "# Definir las columnas de origen, excluyendo la variable objetivo\n",
        "colsOrigen = [i for i in df_train.columns if i != \"RENDIMIENTO_GLOBAL\"]\n",
        "\n",
        "# Combinar los datos de entrenamiento y prueba para preprocesamiento\n",
        "dataFull = pd.concat((df_train[colsOrigen], df_test[colsOrigen]))\n",
        "dataFull.index = range(len(dataFull))\n",
        "\n",
        "# Limpiar los datos usando la función limpiarData\n",
        "dataFull = limpiarData(dataFull)\n",
        "\n",
        "# Dividir los datos combinados nuevamente en conjuntos de entrenamiento y prueba\n",
        "Xtrain = dataFull.iloc[:lentr].values\n",
        "ytrain = df_train[\"RENDIMIENTO_GLOBAL\"].values\n",
        "Xtest = dataFull.iloc[lentr:].values\n",
        "\n",
        "# Imprimir las formas de los conjuntos de entrenamiento y prueba\n",
        "print(\"Forma de Xtrain:\", Xtrain.shape)\n",
        "print(\"Forma de ytrain:\", ytrain.shape)\n",
        "print(\"Forma de Xtest:\", Xtest.shape)"
      ],
      "metadata": {
        "colab": {
          "base_uri": "https://localhost:8080/"
        },
        "id": "aKrLTk9Vbdqz",
        "outputId": "f453df95-da78-4672-9664-eea45b9f6415"
      },
      "execution_count": 11,
      "outputs": [
        {
          "output_type": "stream",
          "name": "stdout",
          "text": [
            "Categorical columns before detailed processing: ['ESTU_PRGM_ACADEMICO', 'ESTU_PRGM_DEPARTAMENTO', 'ESTU_VALORMATRICULAUNIVERSIDAD', 'ESTU_HORASSEMANATRABAJA', 'FAMI_ESTRATOVIVIENDA', 'FAMI_TIENEINTERNET', 'FAMI_EDUCACIONPADRE', 'FAMI_TIENELAVADORA', 'FAMI_TIENEAUTOMOVIL', 'ESTU_PRIVADO_LIBERTAD', 'ESTU_PAGOMATRICULAPROPIO', 'FAMI_TIENECOMPUTADOR', 'FAMI_TIENEINTERNET.1', 'FAMI_EDUCACIONMADRE']\n"
          ]
        },
        {
          "output_type": "stream",
          "name": "stderr",
          "text": [
            "/tmp/ipython-input-10-2082251906.py:13: FutureWarning: A value is trying to be set on a copy of a DataFrame or Series through chained assignment using an inplace method.\n",
            "The behavior will change in pandas 3.0. This inplace method will never work because the intermediate object on which we are setting values always behaves as a copy.\n",
            "\n",
            "For example, when doing 'df[col].method(value, inplace=True)', try using 'df.method({col: value}, inplace=True)' or df[col] = df[col].method(value) instead, to perform the operation inplace on the original object.\n",
            "\n",
            "\n",
            "  z_copy[column].fillna(valor_comun, inplace=True)\n",
            "/tmp/ipython-input-10-2082251906.py:16: FutureWarning: Downcasting behavior in `replace` is deprecated and will be removed in a future version. To retain the old behavior, explicitly call `result.infer_objects(copy=False)`. To opt-in to the future behavior, set `pd.set_option('future.no_silent_downcasting', True)`\n",
            "  z_copy['ESTU_VALORMATRICULAUNIVERSIDAD'].replace({\n",
            "/tmp/ipython-input-10-2082251906.py:27: FutureWarning: Downcasting behavior in `replace` is deprecated and will be removed in a future version. To retain the old behavior, explicitly call `result.infer_objects(copy=False)`. To opt-in to the future behavior, set `pd.set_option('future.no_silent_downcasting', True)`\n",
            "  z_copy['ESTU_HORASSEMANATRABAJA'].replace({\n",
            "/tmp/ipython-input-10-2082251906.py:35: FutureWarning: Downcasting behavior in `replace` is deprecated and will be removed in a future version. To retain the old behavior, explicitly call `result.infer_objects(copy=False)`. To opt-in to the future behavior, set `pd.set_option('future.no_silent_downcasting', True)`\n",
            "  z_copy['FAMI_ESTRATOVIVIENDA'].replace({\n",
            "/tmp/ipython-input-10-2082251906.py:57: FutureWarning: A value is trying to be set on a copy of a DataFrame or Series through chained assignment using an inplace method.\n",
            "The behavior will change in pandas 3.0. This inplace method will never work because the intermediate object on which we are setting values always behaves as a copy.\n",
            "\n",
            "For example, when doing 'df[col].method(value, inplace=True)', try using 'df.method({col: value}, inplace=True)' or df[col] = df[col].method(value) instead, to perform the operation inplace on the original object.\n",
            "\n",
            "\n",
            "  z_copy[col].replace({'Si': 1, 'No': 0}, inplace=True)\n",
            "/tmp/ipython-input-10-2082251906.py:57: FutureWarning: Downcasting behavior in `replace` is deprecated and will be removed in a future version. To retain the old behavior, explicitly call `result.infer_objects(copy=False)`. To opt-in to the future behavior, set `pd.set_option('future.no_silent_downcasting', True)`\n",
            "  z_copy[col].replace({'Si': 1, 'No': 0}, inplace=True)\n",
            "/tmp/ipython-input-10-2082251906.py:59: FutureWarning: A value is trying to be set on a copy of a DataFrame or Series through chained assignment using an inplace method.\n",
            "The behavior will change in pandas 3.0. This inplace method will never work because the intermediate object on which we are setting values always behaves as a copy.\n",
            "\n",
            "For example, when doing 'df[col].method(value, inplace=True)', try using 'df.method({col: value}, inplace=True)' or df[col] = df[col].method(value) instead, to perform the operation inplace on the original object.\n",
            "\n",
            "\n",
            "  z_copy[col].fillna(0, inplace=True)\n",
            "/tmp/ipython-input-10-2082251906.py:57: FutureWarning: A value is trying to be set on a copy of a DataFrame or Series through chained assignment using an inplace method.\n",
            "The behavior will change in pandas 3.0. This inplace method will never work because the intermediate object on which we are setting values always behaves as a copy.\n",
            "\n",
            "For example, when doing 'df[col].method(value, inplace=True)', try using 'df.method({col: value}, inplace=True)' or df[col] = df[col].method(value) instead, to perform the operation inplace on the original object.\n",
            "\n",
            "\n",
            "  z_copy[col].replace({'Si': 1, 'No': 0}, inplace=True)\n",
            "/tmp/ipython-input-10-2082251906.py:57: FutureWarning: Downcasting behavior in `replace` is deprecated and will be removed in a future version. To retain the old behavior, explicitly call `result.infer_objects(copy=False)`. To opt-in to the future behavior, set `pd.set_option('future.no_silent_downcasting', True)`\n",
            "  z_copy[col].replace({'Si': 1, 'No': 0}, inplace=True)\n",
            "/tmp/ipython-input-10-2082251906.py:59: FutureWarning: A value is trying to be set on a copy of a DataFrame or Series through chained assignment using an inplace method.\n",
            "The behavior will change in pandas 3.0. This inplace method will never work because the intermediate object on which we are setting values always behaves as a copy.\n",
            "\n",
            "For example, when doing 'df[col].method(value, inplace=True)', try using 'df.method({col: value}, inplace=True)' or df[col] = df[col].method(value) instead, to perform the operation inplace on the original object.\n",
            "\n",
            "\n",
            "  z_copy[col].fillna(0, inplace=True)\n",
            "/tmp/ipython-input-10-2082251906.py:57: FutureWarning: A value is trying to be set on a copy of a DataFrame or Series through chained assignment using an inplace method.\n",
            "The behavior will change in pandas 3.0. This inplace method will never work because the intermediate object on which we are setting values always behaves as a copy.\n",
            "\n",
            "For example, when doing 'df[col].method(value, inplace=True)', try using 'df.method({col: value}, inplace=True)' or df[col] = df[col].method(value) instead, to perform the operation inplace on the original object.\n",
            "\n",
            "\n",
            "  z_copy[col].replace({'Si': 1, 'No': 0}, inplace=True)\n",
            "/tmp/ipython-input-10-2082251906.py:57: FutureWarning: Downcasting behavior in `replace` is deprecated and will be removed in a future version. To retain the old behavior, explicitly call `result.infer_objects(copy=False)`. To opt-in to the future behavior, set `pd.set_option('future.no_silent_downcasting', True)`\n",
            "  z_copy[col].replace({'Si': 1, 'No': 0}, inplace=True)\n",
            "/tmp/ipython-input-10-2082251906.py:59: FutureWarning: A value is trying to be set on a copy of a DataFrame or Series through chained assignment using an inplace method.\n",
            "The behavior will change in pandas 3.0. This inplace method will never work because the intermediate object on which we are setting values always behaves as a copy.\n",
            "\n",
            "For example, when doing 'df[col].method(value, inplace=True)', try using 'df.method({col: value}, inplace=True)' or df[col] = df[col].method(value) instead, to perform the operation inplace on the original object.\n",
            "\n",
            "\n",
            "  z_copy[col].fillna(0, inplace=True)\n",
            "/tmp/ipython-input-10-2082251906.py:57: FutureWarning: A value is trying to be set on a copy of a DataFrame or Series through chained assignment using an inplace method.\n",
            "The behavior will change in pandas 3.0. This inplace method will never work because the intermediate object on which we are setting values always behaves as a copy.\n",
            "\n",
            "For example, when doing 'df[col].method(value, inplace=True)', try using 'df.method({col: value}, inplace=True)' or df[col] = df[col].method(value) instead, to perform the operation inplace on the original object.\n",
            "\n",
            "\n",
            "  z_copy[col].replace({'Si': 1, 'No': 0}, inplace=True)\n",
            "/tmp/ipython-input-10-2082251906.py:57: FutureWarning: Downcasting behavior in `replace` is deprecated and will be removed in a future version. To retain the old behavior, explicitly call `result.infer_objects(copy=False)`. To opt-in to the future behavior, set `pd.set_option('future.no_silent_downcasting', True)`\n",
            "  z_copy[col].replace({'Si': 1, 'No': 0}, inplace=True)\n",
            "/tmp/ipython-input-10-2082251906.py:59: FutureWarning: A value is trying to be set on a copy of a DataFrame or Series through chained assignment using an inplace method.\n",
            "The behavior will change in pandas 3.0. This inplace method will never work because the intermediate object on which we are setting values always behaves as a copy.\n",
            "\n",
            "For example, when doing 'df[col].method(value, inplace=True)', try using 'df.method({col: value}, inplace=True)' or df[col] = df[col].method(value) instead, to perform the operation inplace on the original object.\n",
            "\n",
            "\n",
            "  z_copy[col].fillna(0, inplace=True)\n",
            "/tmp/ipython-input-10-2082251906.py:57: FutureWarning: A value is trying to be set on a copy of a DataFrame or Series through chained assignment using an inplace method.\n",
            "The behavior will change in pandas 3.0. This inplace method will never work because the intermediate object on which we are setting values always behaves as a copy.\n",
            "\n",
            "For example, when doing 'df[col].method(value, inplace=True)', try using 'df.method({col: value}, inplace=True)' or df[col] = df[col].method(value) instead, to perform the operation inplace on the original object.\n",
            "\n",
            "\n",
            "  z_copy[col].replace({'Si': 1, 'No': 0}, inplace=True)\n",
            "/tmp/ipython-input-10-2082251906.py:59: FutureWarning: A value is trying to be set on a copy of a DataFrame or Series through chained assignment using an inplace method.\n",
            "The behavior will change in pandas 3.0. This inplace method will never work because the intermediate object on which we are setting values always behaves as a copy.\n",
            "\n",
            "For example, when doing 'df[col].method(value, inplace=True)', try using 'df.method({col: value}, inplace=True)' or df[col] = df[col].method(value) instead, to perform the operation inplace on the original object.\n",
            "\n",
            "\n",
            "  z_copy[col].fillna(0, inplace=True)\n",
            "/tmp/ipython-input-10-2082251906.py:57: FutureWarning: A value is trying to be set on a copy of a DataFrame or Series through chained assignment using an inplace method.\n",
            "The behavior will change in pandas 3.0. This inplace method will never work because the intermediate object on which we are setting values always behaves as a copy.\n",
            "\n",
            "For example, when doing 'df[col].method(value, inplace=True)', try using 'df.method({col: value}, inplace=True)' or df[col] = df[col].method(value) instead, to perform the operation inplace on the original object.\n",
            "\n",
            "\n",
            "  z_copy[col].replace({'Si': 1, 'No': 0}, inplace=True)\n",
            "/tmp/ipython-input-10-2082251906.py:57: FutureWarning: Downcasting behavior in `replace` is deprecated and will be removed in a future version. To retain the old behavior, explicitly call `result.infer_objects(copy=False)`. To opt-in to the future behavior, set `pd.set_option('future.no_silent_downcasting', True)`\n",
            "  z_copy[col].replace({'Si': 1, 'No': 0}, inplace=True)\n",
            "/tmp/ipython-input-10-2082251906.py:59: FutureWarning: A value is trying to be set on a copy of a DataFrame or Series through chained assignment using an inplace method.\n",
            "The behavior will change in pandas 3.0. This inplace method will never work because the intermediate object on which we are setting values always behaves as a copy.\n",
            "\n",
            "For example, when doing 'df[col].method(value, inplace=True)', try using 'df.method({col: value}, inplace=True)' or df[col] = df[col].method(value) instead, to perform the operation inplace on the original object.\n",
            "\n",
            "\n",
            "  z_copy[col].fillna(0, inplace=True)\n",
            "/tmp/ipython-input-10-2082251906.py:57: FutureWarning: A value is trying to be set on a copy of a DataFrame or Series through chained assignment using an inplace method.\n",
            "The behavior will change in pandas 3.0. This inplace method will never work because the intermediate object on which we are setting values always behaves as a copy.\n",
            "\n",
            "For example, when doing 'df[col].method(value, inplace=True)', try using 'df.method({col: value}, inplace=True)' or df[col] = df[col].method(value) instead, to perform the operation inplace on the original object.\n",
            "\n",
            "\n",
            "  z_copy[col].replace({'Si': 1, 'No': 0}, inplace=True)\n",
            "/tmp/ipython-input-10-2082251906.py:57: FutureWarning: Downcasting behavior in `replace` is deprecated and will be removed in a future version. To retain the old behavior, explicitly call `result.infer_objects(copy=False)`. To opt-in to the future behavior, set `pd.set_option('future.no_silent_downcasting', True)`\n",
            "  z_copy[col].replace({'Si': 1, 'No': 0}, inplace=True)\n",
            "/tmp/ipython-input-10-2082251906.py:59: FutureWarning: A value is trying to be set on a copy of a DataFrame or Series through chained assignment using an inplace method.\n",
            "The behavior will change in pandas 3.0. This inplace method will never work because the intermediate object on which we are setting values always behaves as a copy.\n",
            "\n",
            "For example, when doing 'df[col].method(value, inplace=True)', try using 'df.method({col: value}, inplace=True)' or df[col] = df[col].method(value) instead, to perform the operation inplace on the original object.\n",
            "\n",
            "\n",
            "  z_copy[col].fillna(0, inplace=True)\n"
          ]
        },
        {
          "output_type": "stream",
          "name": "stdout",
          "text": [
            "Forma de Xtrain: (692500, 165)\n",
            "Forma de ytrain: (692500,)\n",
            "Forma de Xtest: (296786, 165)\n"
          ]
        }
      ]
    },
    {
      "cell_type": "markdown",
      "source": [
        "<font size=\"5\">**5. Entrenamiento del modelo**</font>\n"
      ],
      "metadata": {
        "id": "cutpbvEpf3cJ"
      }
    },
    {
      "cell_type": "code",
      "source": [
        "from sklearn.naive_bayes import GaussianNB\n",
        "from sklearn.model_selection import cross_val_score\n",
        "# Inicializar el clasificador Naive Bayes Gaussiano\n",
        "nb = GaussianNB()\n",
        "\n",
        "# Realizar validación cruzada en el conjunto de entrenamiento\n",
        "cv_scores = cross_val_score(nb, Xtrain, ytrain)\n",
        "print(\"Puntuaciones de validación cruzada:\", cv_scores)\n",
        "\n",
        "# Entrenar el clasificador en los datos de entrenamiento\n",
        "nb.fit(Xtrain, ytrain)\n",
        "\n",
        "# Predecir en el conjunto de prueba\n",
        "preds_ts = nb.predict(Xtest)\n",
        "print(\"Predicciones en el conjunto de prueba:\", preds_ts)\n"
      ],
      "metadata": {
        "colab": {
          "base_uri": "https://localhost:8080/"
        },
        "id": "XRlSXBDHbikl",
        "outputId": "67ae867b-6bb5-4e2d-f6ab-a27d2708a273"
      },
      "execution_count": 12,
      "outputs": [
        {
          "output_type": "stream",
          "name": "stdout",
          "text": [
            "Puntuaciones de validación cruzada: [0.31669314 0.31776895 0.31784116 0.31704693 0.31556679]\n",
            "Predicciones en el conjunto de prueba: ['medio-bajo' 'bajo' 'bajo' ... 'bajo' 'alto' 'bajo']\n"
          ]
        }
      ]
    }
  ]
}